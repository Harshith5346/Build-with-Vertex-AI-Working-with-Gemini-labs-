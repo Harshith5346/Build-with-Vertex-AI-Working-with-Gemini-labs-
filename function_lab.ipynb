{
 "cells": [
  {
   "cell_type": "code",
   "execution_count": null,
   "id": "92defa36",
   "metadata": {},
   "outputs": [],
   "source": [
    "!pip install google-generativeai"
   ]
  },
  {
   "cell_type": "code",
   "execution_count": null,
   "id": "8fe8767b",
   "metadata": {},
   "outputs": [],
   "source": [
    "! pip3 install --upgrade --quiet --user google-cloud-aiplatform==1.88.0 --no-warn-script-location"
   ]
  },
  {
   "cell_type": "code",
   "execution_count": null,
   "id": "1e6f1368",
   "metadata": {},
   "outputs": [],
   "source": [
    "from vertexai.generative_models import FunctionDeclaration\n",
    "\n",
    "add_function = FunctionDeclaration(\n",
    "    name=\"add\",\n",
    "    description=\"Add two numbers together\",\n",
    "    parameters={\n",
    "        \"type\": \"object\",\n",
    "        \"properties\": {\n",
    "            \"a\": {\"type\": \"number\", \"description\": \"First number\"},\n",
    "            \"b\": {\"type\": \"number\", \"description\": \"Second number\"}\n",
    "        },\n",
    "        \"required\": [\"a\", \"b\"]\n",
    "    }\n",
    ")\n",
    "\n",
    "multiply_function = FunctionDeclaration(\n",
    "    name=\"multiply\",\n",
    "    description=\"Multiply two numbers together\",\n",
    "    parameters={\n",
    "        \"type\": \"object\",\n",
    "        \"properties\": {\n",
    "            \"a\": {\"type\": \"number\", \"description\": \"First number\"},\n",
    "            \"b\": {\"type\": \"number\", \"description\": \"Second number\"}\n",
    "        },\n",
    "        \"required\": [\"a\", \"b\"]\n",
    "    }\n",
    ")"
   ]
  },
  {
   "cell_type": "code",
   "execution_count": null,
   "id": "e967b794",
   "metadata": {},
   "outputs": [],
   "source": [
    "from vertexai.generative_models import Tool, GenerativeModel\n",
    "\n",
    "math_tool = Tool(\n",
    "    function_declarations=[add_function, multiply_function]\n",
    ")\n",
    "\n",
    "model = GenerativeModel(\n",
    "    model_name=\"gemini-2.0-flash-001\",\n",
    "    tools=[math_tool],\n",
    "    system_instruction=(\n",
    "        \"Fulfill the user's instructions, including telling jokes. \"\n",
    "        \"If asked to add or multiply numbers, call the provided functions. \"\n",
    "        \"You may call one function after the other if needed. \"\n",
    "        \"Repeat the result to the user.\"\n",
    "    )\n",
    ")\n",
    "\n",
    "chat = model.start_chat()"
   ]
  },
  {
   "cell_type": "code",
   "execution_count": null,
   "id": "5ea4742c",
   "metadata": {},
   "outputs": [],
   "source": [
    "def handle_response(response):\n",
    "    # If there is a function call then invoke it\n",
    "    # Otherwise print the response.\n",
    "    if response.candidates[0].function_calls:\n",
    "        function_call = response.candidates[0].function_calls[0]\n",
    "    else:\n",
    "        print(response.text)\n",
    "        return\n",
    "\n",
    "    if function_call.name == \"add\":\n",
    "        a = function_call.args[\"a\"]\n",
    "        b = function_call.args[\"b\"]\n",
    "        result = add(a, b)\n",
    "        # Send the result back to the chat session with the model\n",
    "        new_response = chat.send_message(str(result))\n",
    "        handle_response(new_response)\n",
    "\n",
    "    elif function_call.name == \"multiply\":\n",
    "        a = function_call.args[\"a\"]\n",
    "        b = function_call.args[\"b\"]\n",
    "        result = multiply(a, b)\n",
    "        new_response = chat.send_message(str(result))\n",
    "        handle_response(new_response)\n",
    "    else:\n",
    "        print(function_call)"
   ]
  },
  {
   "cell_type": "code",
   "execution_count": null,
   "id": "304a78b2",
   "metadata": {},
   "outputs": [],
   "source": [
    "from vertexai.generative_models import Tool, GenerativeModel\n",
    "\n",
    "math_tool = Tool(\n",
    "    function_declarations=[add_function, multiply_function]\n",
    ")\n",
    "\n",
    "model = GenerativeModel(\n",
    "    model_name=\"gemini-2.0-flash-001\",\n",
    "    tools=[math_tool],\n",
    "    system_instruction=(\n",
    "        \"Fulfill the user's instructions, including telling jokes. \"\n",
    "        \"If asked to add or multiply numbers, call the provided functions. \"\n",
    "        \"You may call one function after the other if needed. \"\n",
    "        \"Repeat the result to the user.\"\n",
    "    )\n",
    ")\n",
    "\n",
    "chat = model.start_chat()"
   ]
  },
  {
   "cell_type": "code",
   "execution_count": null,
   "id": "72ddb685",
   "metadata": {},
   "outputs": [],
   "source": [
    "response = chat.send_message(\"Tell me a joke?\")\n",
    "handle_response(response)\n",
    "\n",
    "response = chat.send_message(\"I have 7 pizzas each with 16 slices. How many slices do I have?\")\n",
    "handle_response(response)\n",
    "\n",
    "response = chat.send_message(\"Doug brought 3 pizzas. Andrew brought 4 pizzas. How many pizzas did they bring together?\")\n",
    "handle_response(response)\n",
    "\n",
    "response = chat.send_message(\"Doug brought 3 pizzas. Andrew brought 4 pizzas. There are 16 slices per pizza. How many slices are there?\")\n",
    "handle_response(response)\n",
    "\n",
    "response = chat.send_message(\"Doug brought 4 pizzas, but Andrew dropped 2 on the ground. How many pizzas are left?\")\n",
    "handle_response(response)"
   ]
  },
  {
   "cell_type": "code",
   "execution_count": null,
   "id": "5a19ceca",
   "metadata": {},
   "outputs": [],
   "source": []
  }
 ],
 "metadata": {
  "kernelspec": {
   "display_name": "Python 3",
   "language": "python",
   "name": "python3"
  },
  "language_info": {
   "codemirror_mode": {
    "name": "ipython",
    "version": 3
   },
   "file_extension": ".py",
   "mimetype": "text/x-python",
   "name": "python",
   "nbconvert_exporter": "python",
   "pygments_lexer": "ipython3",
   "version": "3.12.1"
  }
 },
 "nbformat": 4,
 "nbformat_minor": 5
}
